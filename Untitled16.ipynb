{
 "cells": [
  {
   "cell_type": "code",
   "execution_count": 6,
   "id": "01c8d866-c957-42cb-b5f9-759ccfadbd7d",
   "metadata": {},
   "outputs": [
    {
     "name": "stdout",
     "output_type": "stream",
     "text": [
      "this is a private variable 10\n"
     ]
    }
   ],
   "source": [
    "class abc():\n",
    "    def __init__(self,var):\n",
    "        self.__var=var\n",
    "    def __display(self):\n",
    "        print(f\"this is a private variable {self.__var}\")\n",
    "obj=abc(10)\n",
    "obj._abc__display()"
   ]
  },
  {
   "cell_type": "code",
   "execution_count": 12,
   "id": "b3f8a67d-511e-4f26-9917-d89120e00b87",
   "metadata": {},
   "outputs": [
    {
     "name": "stdout",
     "output_type": "stream",
     "text": [
      "val is 20\n"
     ]
    }
   ],
   "source": [
    "class ano():\n",
    "    def __init__(self,val):\n",
    "        self.val=val\n",
    "    def display(self):\n",
    "        print(f\"val is {self.val}\")\n",
    "    def add_display(self):\n",
    "        self.val += 5\n",
    "        self.display()\n",
    "obj=ano(15)\n",
    "obj.add_display()"
   ]
  },
  {
   "cell_type": "code",
   "execution_count": 30,
   "id": "1b0dcef0-73d9-4441-b223-282fb3d34f1d",
   "metadata": {},
   "outputs": [
    {
     "name": "stdout",
     "output_type": "stream",
     "text": [
      "var is: 10\n",
      "var is: 100\n"
     ]
    }
   ],
   "source": [
    "def sil(x):\n",
    "    k=x*10\n",
    "    return k\n",
    "class cla():\n",
    "    def __init__(self,var):\n",
    "        self.var=var\n",
    "    def display(self):\n",
    "        print(\"var is:\",self.var)\n",
    "    def modify(self):\n",
    "        self.var=sil(self.var)\n",
    "obj=cla(10)\n",
    "obj.display()\n",
    "obj.modify()\n",
    "obj.display()"
   ]
  },
  {
   "cell_type": "code",
   "execution_count": 46,
   "id": "59b7a756-7fb8-48dd-9eeb-7236db7dd49b",
   "metadata": {},
   "outputs": [
    {
     "name": "stdout",
     "output_type": "stream",
     "text": [
      "val is 10\n",
      "obj has attribute True\n",
      "after setting value,var is: 20\n",
      "new variable count is created with value 10\n",
      "after deleting it has False\n"
     ]
    }
   ],
   "source": [
    "class ano():\n",
    "    def __init__(self,val):\n",
    "        self.val=val\n",
    "    def display(self):\n",
    "        print(f\"val is {self.val}\")\n",
    "obj=ano(10)\n",
    "obj.display()\n",
    "print(\"obj has attribute\",hasattr(obj,'val'))\n",
    "getattr(obj,'val')\n",
    "setattr(obj,'val',20)\n",
    "print(\"after setting value,var is:\",obj.val)\n",
    "setattr(obj,\"count\",10)\n",
    "print(\"new variable count is created with value\",obj.count)\n",
    "delattr(obj,\"val\")\n",
    "print(\"after deleting it has\",hasattr(obj,\"val\"))"
   ]
  },
  {
   "cell_type": "code",
   "execution_count": 68,
   "id": "03472b9f-3fb0-43e3-b307-f829586900dd",
   "metadata": {},
   "outputs": [
    {
     "name": "stdout",
     "output_type": "stream",
     "text": [
      "val is: 10\n",
      "val is: 12.14\n"
     ]
    }
   ],
   "source": [
    "class ano():\n",
    "    def __init__(self,v1,v2):\n",
    "        self.v1=v1\n",
    "        self.v2=v2\n",
    "    def display(self):\n",
    "        print(\"val is:\",self.v1)\n",
    "        print(\"val is:\",self.v2)\n",
    "obj=abc(10,12.14)\n",
    "obj.display()"
   ]
  },
  {
   "cell_type": "code",
   "execution_count": 76,
   "id": "646cc798-0cb6-457c-b530-a62c2e282d4e",
   "metadata": {},
   "outputs": [
    {
     "name": "stdin",
     "output_type": "stream",
     "text": [
      " 80\n",
      " 89\n",
      " 90\n"
     ]
    },
    {
     "name": "stdout",
     "output_type": "stream",
     "text": [
      "vijay got [80, 89, 90]\n"
     ]
    }
   ],
   "source": [
    "class student():\n",
    "    list=[]\n",
    "    def __init__(self,name):\n",
    "        self.name=name\n",
    "    def marks(self):\n",
    "        for i in range(3):\n",
    "            d=int(input())\n",
    "            student.list.append(d)\n",
    "    def dis(self):\n",
    "        print(f\"{self.name} got {student.list}\")\n",
    "s1=student(\"vijay\")\n",
    "s1.marks()\n",
    "s1.dis()"
   ]
  },
  {
   "cell_type": "code",
   "execution_count": 86,
   "id": "61ab0c05-86b8-46b5-899b-a4b5654004c6",
   "metadata": {},
   "outputs": [
    {
     "name": "stdout",
     "output_type": "stream",
     "text": [
      "area is: 176.77\n",
      "circumference is: 47.14\n"
     ]
    }
   ],
   "source": [
    "class circle():\n",
    "    pi= 3.14259\n",
    "    def __init__(self,rad):\n",
    "        self.rad=rad\n",
    "    def area(self):\n",
    "        print(\"area is:\",round(circle.pi*self.rad*self.rad,2))\n",
    "    def cir(self):\n",
    "        print(\"circumference is:\",round(2*circle.pi*self.rad,2))\n",
    "c=circle(7.5)\n",
    "c.area()\n",
    "c.cir()"
   ]
  },
  {
   "cell_type": "code",
   "execution_count": null,
   "id": "cd95ba70-678c-40f3-95ea-a50a9c957ae4",
   "metadata": {},
   "outputs": [],
   "source": []
  }
 ],
 "metadata": {
  "kernelspec": {
   "display_name": "Python 3 (ipykernel)",
   "language": "python",
   "name": "python3"
  },
  "language_info": {
   "codemirror_mode": {
    "name": "ipython",
    "version": 3
   },
   "file_extension": ".py",
   "mimetype": "text/x-python",
   "name": "python",
   "nbconvert_exporter": "python",
   "pygments_lexer": "ipython3",
   "version": "3.12.7"
  }
 },
 "nbformat": 4,
 "nbformat_minor": 5
}
