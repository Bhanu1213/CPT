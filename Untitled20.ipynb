{
 "cells": [
  {
   "cell_type": "code",
   "execution_count": 1,
   "id": "afa7be20-cf51-47cf-af19-97beee9eefcb",
   "metadata": {},
   "outputs": [
    {
     "name": "stdout",
     "output_type": "stream",
     "text": [
      "base class2\n",
      "base class 1\n",
      "derived class from both classes\n"
     ]
    }
   ],
   "source": [
    "#multiple inheritance\n",
    "class base1(object):      #1st base-class\n",
    "    def __init__(self):\n",
    "        super(base1,self).__init__()\n",
    "        print(\"base class 1\")\n",
    "class base2(object):     #2nd base-class\n",
    "    def __init__(self):\n",
    "        super(base2,self).__init__()\n",
    "        print(\"base class2\")\n",
    "class derived(base1,base2):\n",
    "    def __init__(self):\n",
    "        super(derived,self).__init__()\n",
    "        print(\"derived class from both classes\")\n",
    "d=derived()"
   ]
  },
  {
   "cell_type": "code",
   "execution_count": 11,
   "id": "fa6df154-4e34-4877-9085-f810781a27e4",
   "metadata": {},
   "outputs": [
    {
     "name": "stdin",
     "output_type": "stream",
     "text": [
      " 5\n",
      " 6\n"
     ]
    },
    {
     "name": "stdout",
     "output_type": "stream",
     "text": [
      "addition is only receive by the obj\n",
      "mul is only receive by the obj\n",
      "calc class initialized\n",
      "sum: 11\n",
      "mul: 30\n"
     ]
    }
   ],
   "source": [
    "#initalise classes addition,multiplication in a calculator pass the values from main program to the super\n",
    "#class,where the subclasses addition and multiplication were triggered and return the outputs respectively.\n",
    "#take derived class cal\n",
    "#from derived class call sub classes(addd and mul)\n",
    "#return the values after math to the object\n",
    "#manual values of f both numbers considered within the object\n",
    "class addi:\n",
    "    def __init__(self,a,b):\n",
    "        self.a=a\n",
    "        self.b=b\n",
    "        print(\"addition is only receive by the obj\")\n",
    "    def add(self):\n",
    "        return self.a+self.b\n",
    "class multi:\n",
    "    def __init__(self,a,b):\n",
    "        self.a=a\n",
    "        self.b=b\n",
    "        print(\"mul is only receive by the obj\")\n",
    "    def mul(self):\n",
    "        return self.a*self.b\n",
    "class calc(addi,multi):\n",
    "    def __init__(self,a,b):\n",
    "        add.__init__(self,a,b)\n",
    "        mul.__init__(self,a,b)\n",
    "        print(\"calc class initialized\")\n",
    "x=int(input())\n",
    "y=int(input())\n",
    "c=calc(x,y)\n",
    "print(\"sum:\",c.add())\n",
    "print(\"mul:\",c.mul())\n"
   ]
  },
  {
   "cell_type": "code",
   "execution_count": 21,
   "id": "daa503bd-0e0f-4b05-9d5c-dea3233ade1b",
   "metadata": {},
   "outputs": [
    {
     "name": "stdin",
     "output_type": "stream",
     "text": [
      " 5\n",
      " 6\n"
     ]
    },
    {
     "name": "stdout",
     "output_type": "stream",
     "text": [
      "11\n",
      "30\n",
      "calc class initialized\n"
     ]
    }
   ],
   "source": [
    "#initalise classes addition,multiplication in a calculator pass the values from main program to the super\n",
    "#class,where the subclasses addition and multiplication were triggered and return the outputs respectively.\n",
    "#take derived class cal\n",
    "#from derived class call sub classes(addd and mul)\n",
    "#return the values after math to the object\n",
    "#manual values of f both numbers considered within the object\n",
    "class addi:\n",
    "    def __init__(self,a,b):\n",
    "        self.a=a\n",
    "        self.b=b\n",
    "        print(self.a+self.b)\n",
    "class multi:\n",
    "    def __init__(self,a,b):\n",
    "        self.a=a\n",
    "        self.b=b\n",
    "        print(self.a*self.b)\n",
    "class calc(addi,multi):\n",
    "    def __init__(self,a,b):\n",
    "        addi.__init__(self,a,b)\n",
    "        multi.__init__(self,a,b)\n",
    "        print(\"calc class initialized\")\n",
    "x=int(input())\n",
    "y=int(input())\n",
    "c=calc(x,y)\n",
    "\n"
   ]
  },
  {
   "cell_type": "code",
   "execution_count": 35,
   "id": "764edd49-dcb7-40a7-9015-002cf34f7232",
   "metadata": {},
   "outputs": [
    {
     "name": "stdin",
     "output_type": "stream",
     "text": [
      " 4\n"
     ]
    },
    {
     "name": "stdout",
     "output_type": "stream",
     "text": [
      "sum: 80\n"
     ]
    }
   ],
   "source": [
    "class sq:\n",
    "    def __init__(self,x):\n",
    "        self.x=x\n",
    "    def add(self):\n",
    "        return self.x*self.x\n",
    "class cu:\n",
    "    def __init__(self,x):\n",
    "        self.x=x\n",
    "    def add1(self):\n",
    "        return self.x**3\n",
    "class sum(sq,cu):\n",
    "    sum1=0\n",
    "    def __init__(self,x):\n",
    "        sq.__init__(self,x)\n",
    "        cu.__init__(self,x)\n",
    "k=int(input())\n",
    "c=sum(k)\n",
    "print(\"sum:\",c.add()+c.add1())"
   ]
  },
  {
   "cell_type": "code",
   "execution_count": 39,
   "id": "e6833f34-6ae0-4365-af56-569526a0be36",
   "metadata": {},
   "outputs": [
    {
     "name": "stdout",
     "output_type": "stream",
     "text": [
      "name....\n",
      "phd\n",
      "experience\n"
     ]
    }
   ],
   "source": [
    "class p:\n",
    "    def name(self):\n",
    "        print(\"name....\")\n",
    "class t(p):\n",
    "    def q(self):\n",
    "        print('phd')\n",
    "class hod(t):\n",
    "    def exp(self):\n",
    "        print(\"experience\")\n",
    "head=hod()\n",
    "head.name()\n",
    "head.q()\n",
    "head.exp()"
   ]
  },
  {
   "cell_type": "code",
   "execution_count": 45,
   "id": "4626993e-0819-4d52-abd1-b94b1dbcb756",
   "metadata": {},
   "outputs": [
    {
     "name": "stdin",
     "output_type": "stream",
     "text": [
      " 6\n"
     ]
    },
    {
     "name": "stdout",
     "output_type": "stream",
     "text": [
      "36\n",
      "216\n"
     ]
    }
   ],
   "source": [
    "#multi-level inheritance cubes and squares of an obj\n",
    "class num:\n",
    "    def __init__(self,n):\n",
    "        self.n=n\n",
    "class sq(num):\n",
    "    def square(self):\n",
    "        print(self.n**2)\n",
    "class cu(sq):\n",
    "    def cube(self):\n",
    "        print(self.n**3)\n",
    "r=int(input())\n",
    "calc=cu(r)\n",
    "calc.square()\n",
    "calc.cube()"
   ]
  },
  {
   "cell_type": "code",
   "execution_count": 49,
   "id": "a38ccbee-063b-4287-820f-b72b8888d529",
   "metadata": {},
   "outputs": [
    {
     "name": "stdout",
     "output_type": "stream",
     "text": [
      "sum: 16\n"
     ]
    }
   ],
   "source": [
    "class number:\n",
    "    def __init__(self,num):\n",
    "        self.num=num\n",
    "    def get_number(self):\n",
    "        return self.num\n",
    "    def double(self):\n",
    "        return self.get_number()**2\n",
    "    def triple(self):\n",
    "        return self.get_number()**3\n",
    "c=number(4)\n",
    "print(\"sum:\",c.double())"
   ]
  },
  {
   "cell_type": "code",
   "execution_count": null,
   "id": "cce7db06-2bf2-4449-9de3-caaac5248ee0",
   "metadata": {},
   "outputs": [],
   "source": []
  }
 ],
 "metadata": {
  "kernelspec": {
   "display_name": "Python 3 (ipykernel)",
   "language": "python",
   "name": "python3"
  },
  "language_info": {
   "codemirror_mode": {
    "name": "ipython",
    "version": 3
   },
   "file_extension": ".py",
   "mimetype": "text/x-python",
   "name": "python",
   "nbconvert_exporter": "python",
   "pygments_lexer": "ipython3",
   "version": "3.12.7"
  }
 },
 "nbformat": 4,
 "nbformat_minor": 5
}
